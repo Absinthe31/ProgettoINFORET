{
 "cells": [
  {
   "cell_type": "code",
   "execution_count": 23,
   "metadata": {},
   "outputs": [
    {
     "name": "stdout",
     "output_type": "stream",
     "text": [
      "Requirement already satisfied: scrapy in c:\\users\\mohce\\anaconda3\\lib\\site-packages (2.6.2)\n",
      "Requirement already satisfied: lxml>=3.5.0; platform_python_implementation == \"CPython\" in c:\\users\\mohce\\anaconda3\\lib\\site-packages (from scrapy) (4.6.1)\n",
      "Requirement already satisfied: service-identity>=16.0.0 in c:\\users\\mohce\\anaconda3\\lib\\site-packages (from scrapy) (21.1.0)\n",
      "Requirement already satisfied: cryptography>=2.0 in c:\\users\\mohce\\anaconda3\\lib\\site-packages (from scrapy) (3.1.1)\n",
      "Requirement already satisfied: w3lib>=1.17.0 in c:\\users\\mohce\\anaconda3\\lib\\site-packages (from scrapy) (2.0.1)\n",
      "Requirement already satisfied: itemloaders>=1.0.1 in c:\\users\\mohce\\anaconda3\\lib\\site-packages (from scrapy) (1.0.5)\n",
      "Requirement already satisfied: Twisted>=17.9.0 in c:\\users\\mohce\\anaconda3\\lib\\site-packages (from scrapy) (22.4.0)\n",
      "Requirement already satisfied: pyOpenSSL>=16.2.0 in c:\\users\\mohce\\anaconda3\\lib\\site-packages (from scrapy) (19.1.0)\n",
      "Requirement already satisfied: parsel>=1.5.0 in c:\\users\\mohce\\anaconda3\\lib\\site-packages (from scrapy) (1.6.0)\n",
      "Requirement already satisfied: zope.interface>=4.1.3 in c:\\users\\mohce\\anaconda3\\lib\\site-packages (from scrapy) (5.1.2)\n",
      "Requirement already satisfied: protego>=0.1.15 in c:\\users\\mohce\\anaconda3\\lib\\site-packages (from scrapy) (0.2.1)\n",
      "Requirement already satisfied: itemadapter>=0.1.0 in c:\\users\\mohce\\anaconda3\\lib\\site-packages (from scrapy) (0.7.0)\n",
      "Requirement already satisfied: setuptools in c:\\users\\mohce\\anaconda3\\lib\\site-packages (from scrapy) (50.3.1.post20201107)\n",
      "Requirement already satisfied: PyDispatcher>=2.0.5; platform_python_implementation == \"CPython\" in c:\\users\\mohce\\anaconda3\\lib\\site-packages (from scrapy) (2.0.5)\n",
      "Requirement already satisfied: tldextract in c:\\users\\mohce\\anaconda3\\lib\\site-packages (from scrapy) (3.3.1)\n",
      "Requirement already satisfied: cssselect>=0.9.1 in c:\\users\\mohce\\anaconda3\\lib\\site-packages (from scrapy) (1.1.0)\n",
      "Requirement already satisfied: queuelib>=1.4.2 in c:\\users\\mohce\\anaconda3\\lib\\site-packages (from scrapy) (1.6.2)\n",
      "Requirement already satisfied: pyasn1-modules in c:\\users\\mohce\\anaconda3\\lib\\site-packages (from service-identity>=16.0.0->scrapy) (0.2.8)\n",
      "Requirement already satisfied: attrs>=19.1.0 in c:\\users\\mohce\\anaconda3\\lib\\site-packages (from service-identity>=16.0.0->scrapy) (20.3.0)\n",
      "Requirement already satisfied: six in c:\\users\\mohce\\anaconda3\\lib\\site-packages (from service-identity>=16.0.0->scrapy) (1.15.0)\n",
      "Requirement already satisfied: pyasn1 in c:\\users\\mohce\\anaconda3\\lib\\site-packages (from service-identity>=16.0.0->scrapy) (0.4.8)\n",
      "Requirement already satisfied: cffi!=1.11.3,>=1.8 in c:\\users\\mohce\\anaconda3\\lib\\site-packages (from cryptography>=2.0->scrapy) (1.14.3)\n",
      "Requirement already satisfied: jmespath>=0.9.5 in c:\\users\\mohce\\anaconda3\\lib\\site-packages (from itemloaders>=1.0.1->scrapy) (1.0.1)\n",
      "Requirement already satisfied: constantly>=15.1 in c:\\users\\mohce\\anaconda3\\lib\\site-packages (from Twisted>=17.9.0->scrapy) (15.1.0)\n",
      "Requirement already satisfied: twisted-iocpsupport<2,>=1.0.2; platform_system == \"Windows\" in c:\\users\\mohce\\anaconda3\\lib\\site-packages (from Twisted>=17.9.0->scrapy) (1.0.2)\n",
      "Requirement already satisfied: typing-extensions>=3.6.5 in c:\\users\\mohce\\anaconda3\\lib\\site-packages (from Twisted>=17.9.0->scrapy) (3.7.4.3)\n",
      "Requirement already satisfied: Automat>=0.8.0 in c:\\users\\mohce\\anaconda3\\lib\\site-packages (from Twisted>=17.9.0->scrapy) (20.2.0)\n",
      "Requirement already satisfied: hyperlink>=17.1.1 in c:\\users\\mohce\\anaconda3\\lib\\site-packages (from Twisted>=17.9.0->scrapy) (21.0.0)\n",
      "Requirement already satisfied: incremental>=21.3.0 in c:\\users\\mohce\\anaconda3\\lib\\site-packages (from Twisted>=17.9.0->scrapy) (21.3.0)\n",
      "Requirement already satisfied: filelock>=3.0.8 in c:\\users\\mohce\\anaconda3\\lib\\site-packages (from tldextract->scrapy) (3.0.12)\n",
      "Requirement already satisfied: requests>=2.1.0 in c:\\users\\mohce\\anaconda3\\lib\\site-packages (from tldextract->scrapy) (2.24.0)\n",
      "Requirement already satisfied: requests-file>=1.4 in c:\\users\\mohce\\anaconda3\\lib\\site-packages (from tldextract->scrapy) (1.5.1)\n",
      "Requirement already satisfied: idna in c:\\users\\mohce\\anaconda3\\lib\\site-packages (from tldextract->scrapy) (2.10)\n",
      "Requirement already satisfied: pycparser in c:\\users\\mohce\\anaconda3\\lib\\site-packages (from cffi!=1.11.3,>=1.8->cryptography>=2.0->scrapy) (2.20)\n",
      "Requirement already satisfied: urllib3!=1.25.0,!=1.25.1,<1.26,>=1.21.1 in c:\\users\\mohce\\anaconda3\\lib\\site-packages (from requests>=2.1.0->tldextract->scrapy) (1.25.11)\n",
      "Requirement already satisfied: chardet<4,>=3.0.2 in c:\\users\\mohce\\anaconda3\\lib\\site-packages (from requests>=2.1.0->tldextract->scrapy) (3.0.4)\n",
      "Requirement already satisfied: certifi>=2017.4.17 in c:\\users\\mohce\\anaconda3\\lib\\site-packages (from requests>=2.1.0->tldextract->scrapy) (2020.6.20)\n"
     ]
    }
   ],
   "source": [
    "!pip install scrapy"
   ]
  },
  {
   "cell_type": "code",
   "execution_count": 16,
   "metadata": {},
   "outputs": [
    {
     "name": "stdout",
     "output_type": "stream",
     "text": [
      "New Scrapy project 'skysport', using template directory 'c:\\users\\mohce\\anaconda3\\lib\\site-packages\\scrapy\\templates\\project', created in:\n",
      "    c:\\Users\\mohce\\OneDrive\\Desktop\\ProgettoINFORET\\skysport\n",
      "\n",
      "You can start your first spider with:\n",
      "    cd skysport\n",
      "    scrapy genspider example example.com\n"
     ]
    }
   ],
   "source": [
    "!scrapy startproject skysport"
   ]
  },
  {
   "cell_type": "code",
   "execution_count": 20,
   "metadata": {},
   "outputs": [
    {
     "name": "stdout",
     "output_type": "stream",
     "text": [
      "c:\\Users\\mohce\\OneDrive\\Desktop\\ProgettoINFORET\\skysport\n"
     ]
    }
   ],
   "source": [
    "cd skysport"
   ]
  },
  {
   "cell_type": "code",
   "execution_count": 29,
   "metadata": {},
   "outputs": [
    {
     "name": "stderr",
     "output_type": "stream",
     "text": [
      "\"rm\" non � riconosciuto come comando interno o esterno,\n",
      " un programma eseguibile o un file batch.\n"
     ]
    },
    {
     "name": "stdout",
     "output_type": "stream",
     "text": [
      "^C\n"
     ]
    }
   ],
   "source": [
    "!rd scrapedUrls.json\n",
    "!scrapy crawl titles -o scrapedUrls.json"
   ]
  },
  {
   "cell_type": "code",
   "execution_count": 4,
   "metadata": {},
   "outputs": [
    {
     "name": "stdout",
     "output_type": "stream",
     "text": [
      " Il volume nell'unit� C � Windows\n",
      " Numero di serie del volume: 6641-0C49\n",
      "\n",
      " Directory di c:\\Users\\mohce\\OneDrive\\Desktop\\ProgettoINFORET\n",
      "\n",
      "29/08/2022  11:03    <DIR>          .\n",
      "29/08/2022  10:29    <DIR>          ..\n",
      "29/08/2022  11:22    <DIR>          skysport\n",
      "29/08/2022  10:34               857 Untitled-1.ipynb\n",
      "               1 File            857 byte\n",
      "               3 Directory  224.535.212.032 byte disponibili\n"
     ]
    }
   ],
   "source": [
    "ls"
   ]
  },
  {
   "cell_type": "code",
   "execution_count": 25,
   "metadata": {},
   "outputs": [
    {
     "data": {
      "text/plain": [
       "['Milan',\n",
       " 'Fiorentina',\n",
       " 'Roma',\n",
       " 'Atalanta',\n",
       " 'Bologna',\n",
       " 'Cagliari',\n",
       " 'Genoa',\n",
       " 'Inter',\n",
       " 'Juventus',\n",
       " 'Lazio',\n",
       " 'Parma',\n",
       " 'Napoli',\n",
       " 'Udinese',\n",
       " 'Verona',\n",
       " 'Sassuolo',\n",
       " 'Crotone',\n",
       " 'Spezia Calcio',\n",
       " 'Sampdoria',\n",
       " 'Torino',\n",
       " 'Benevento']"
      ]
     },
     "execution_count": 25,
     "metadata": {},
     "output_type": "execute_result"
    }
   ],
   "source": [
    "import pandas as pd\n",
    "import requests\n",
    "import json\n",
    "\n",
    "dataframe = pd.read_json(path_or_buf='./skysport/skysport/scrapedUrls.json')\n",
    "\n",
    "#print(dataframe['tags'].head(10))\n",
    "\n",
    "\n",
    "token = '9592c1c916514c54a712c48fe03a14b4'\n",
    "\n",
    "uri = 'https://api.football-data.org/v4/competitions/SA/matches?season=2020'\n",
    "headers = { 'X-Auth-Token': token}\n",
    "\n",
    "matches = requests.get(uri, headers=headers)\n",
    "#for match in matches.json()['matches']:\n",
    "  #print(match)\n",
    "    \n",
    "\n",
    "uri = 'https://api.football-data.org/v4/competitions/SA/teams?season=2020'\n",
    "headers = { 'X-Auth-Token': token}\n",
    "\n",
    "teams = requests.get(uri, headers=headers)\n",
    "    \n",
    "\n",
    "teams = [team['shortName'] for team in teams.json()['teams']]\n",
    "\n",
    "teams_dict = { i : pd.DataFrame() for i in teams }\n",
    "\n",
    "teams\n"
   ]
  },
  {
   "cell_type": "code",
   "execution_count": 26,
   "metadata": {},
   "outputs": [
    {
     "data": {
      "text/plain": [
       "2       26/08/2020\n",
       "3       26/08/2020\n",
       "13      22/08/2020\n",
       "35      30/08/2020\n",
       "67      23/08/2020\n",
       "           ...    \n",
       "4149    16/06/2021\n",
       "4150    16/06/2021\n",
       "4158    11/06/2021\n",
       "4165    11/06/2021\n",
       "4168    25/06/2021\n",
       "Name: date, Length: 871, dtype: object"
      ]
     },
     "execution_count": 26,
     "metadata": {},
     "output_type": "execute_result"
    }
   ],
   "source": [
    "def adjust_name(name):\n",
    "\n",
    "    return name.split(' ')[0].lower()\n",
    "\n",
    "for team in teams:\n",
    "    \n",
    "    teams_dict[team] = dataframe[[(adjust_name(team) in x) for x in dataframe.tags]]\n",
    "\n",
    "teams_dict['Inter'].date"
   ]
  },
  {
   "cell_type": "code",
   "execution_count": 67,
   "metadata": {},
   "outputs": [
    {
     "ename": "ValueError",
     "evalue": "12 columns passed, passed data had 14 columns",
     "output_type": "error",
     "traceback": [
      "\u001b[1;31m---------------------------------------------------------------------------\u001b[0m",
      "\u001b[1;31mAssertionError\u001b[0m                            Traceback (most recent call last)",
      "\u001b[1;32mc:\\Users\\mohce\\anaconda3\\lib\\site-packages\\pandas\\core\\internals\\construction.py\u001b[0m in \u001b[0;36m_list_to_arrays\u001b[1;34m(data, columns, coerce_float, dtype)\u001b[0m\n\u001b[0;32m    563\u001b[0m     \u001b[1;32mtry\u001b[0m\u001b[1;33m:\u001b[0m\u001b[1;33m\u001b[0m\u001b[1;33m\u001b[0m\u001b[0m\n\u001b[1;32m--> 564\u001b[1;33m         \u001b[0mcolumns\u001b[0m \u001b[1;33m=\u001b[0m \u001b[0m_validate_or_indexify_columns\u001b[0m\u001b[1;33m(\u001b[0m\u001b[0mcontent\u001b[0m\u001b[1;33m,\u001b[0m \u001b[0mcolumns\u001b[0m\u001b[1;33m)\u001b[0m\u001b[1;33m\u001b[0m\u001b[1;33m\u001b[0m\u001b[0m\n\u001b[0m\u001b[0;32m    565\u001b[0m         \u001b[0mresult\u001b[0m \u001b[1;33m=\u001b[0m \u001b[0m_convert_object_array\u001b[0m\u001b[1;33m(\u001b[0m\u001b[0mcontent\u001b[0m\u001b[1;33m,\u001b[0m \u001b[0mdtype\u001b[0m\u001b[1;33m=\u001b[0m\u001b[0mdtype\u001b[0m\u001b[1;33m,\u001b[0m \u001b[0mcoerce_float\u001b[0m\u001b[1;33m=\u001b[0m\u001b[0mcoerce_float\u001b[0m\u001b[1;33m)\u001b[0m\u001b[1;33m\u001b[0m\u001b[1;33m\u001b[0m\u001b[0m\n",
      "\u001b[1;32mc:\\Users\\mohce\\anaconda3\\lib\\site-packages\\pandas\\core\\internals\\construction.py\u001b[0m in \u001b[0;36m_validate_or_indexify_columns\u001b[1;34m(content, columns)\u001b[0m\n\u001b[0;32m    687\u001b[0m             \u001b[1;31m# caller's responsibility to check for this...\u001b[0m\u001b[1;33m\u001b[0m\u001b[1;33m\u001b[0m\u001b[1;33m\u001b[0m\u001b[0m\n\u001b[1;32m--> 688\u001b[1;33m             raise AssertionError(\n\u001b[0m\u001b[0;32m    689\u001b[0m                 \u001b[1;34mf\"{len(columns)} columns passed, passed data had \"\u001b[0m\u001b[1;33m\u001b[0m\u001b[1;33m\u001b[0m\u001b[0m\n",
      "\u001b[1;31mAssertionError\u001b[0m: 12 columns passed, passed data had 14 columns",
      "\nThe above exception was the direct cause of the following exception:\n",
      "\u001b[1;31mValueError\u001b[0m                                Traceback (most recent call last)",
      "\u001b[1;32m<ipython-input-67-dec993b15c80>\u001b[0m in \u001b[0;36m<module>\u001b[1;34m\u001b[0m\n\u001b[0;32m     41\u001b[0m         \u001b[1;32mbreak\u001b[0m\u001b[1;33m\u001b[0m\u001b[1;33m\u001b[0m\u001b[0m\n\u001b[0;32m     42\u001b[0m \u001b[1;33m\u001b[0m\u001b[0m\n\u001b[1;32m---> 43\u001b[1;33m \u001b[0mleaderboard\u001b[0m \u001b[1;33m=\u001b[0m \u001b[0mpd\u001b[0m\u001b[1;33m.\u001b[0m\u001b[0mDataFrame\u001b[0m\u001b[1;33m(\u001b[0m\u001b[0ml\u001b[0m\u001b[1;33m,\u001b[0m \u001b[0mcolumns\u001b[0m\u001b[1;33m=\u001b[0m\u001b[0mp\u001b[0m\u001b[1;33m.\u001b[0m\u001b[0msplit\u001b[0m\u001b[1;33m(\u001b[0m\u001b[1;34m' '\u001b[0m\u001b[1;33m)\u001b[0m\u001b[1;33m)\u001b[0m\u001b[1;33m\u001b[0m\u001b[1;33m\u001b[0m\u001b[0m\n\u001b[0m\u001b[0;32m     44\u001b[0m \u001b[1;31m#print('CLASSIFICA')\u001b[0m\u001b[1;33m\u001b[0m\u001b[1;33m\u001b[0m\u001b[1;33m\u001b[0m\u001b[0m\n\u001b[0;32m     45\u001b[0m \u001b[1;31m#print(leaderboard)\u001b[0m\u001b[1;33m\u001b[0m\u001b[1;33m\u001b[0m\u001b[1;33m\u001b[0m\u001b[0m\n",
      "\u001b[1;32mc:\\Users\\mohce\\anaconda3\\lib\\site-packages\\pandas\\core\\frame.py\u001b[0m in \u001b[0;36m__init__\u001b[1;34m(self, data, index, columns, dtype, copy)\u001b[0m\n\u001b[0;32m    507\u001b[0m                     \u001b[1;32mif\u001b[0m \u001b[0mis_named_tuple\u001b[0m\u001b[1;33m(\u001b[0m\u001b[0mdata\u001b[0m\u001b[1;33m[\u001b[0m\u001b[1;36m0\u001b[0m\u001b[1;33m]\u001b[0m\u001b[1;33m)\u001b[0m \u001b[1;32mand\u001b[0m \u001b[0mcolumns\u001b[0m \u001b[1;32mis\u001b[0m \u001b[1;32mNone\u001b[0m\u001b[1;33m:\u001b[0m\u001b[1;33m\u001b[0m\u001b[1;33m\u001b[0m\u001b[0m\n\u001b[0;32m    508\u001b[0m                         \u001b[0mcolumns\u001b[0m \u001b[1;33m=\u001b[0m \u001b[0mdata\u001b[0m\u001b[1;33m[\u001b[0m\u001b[1;36m0\u001b[0m\u001b[1;33m]\u001b[0m\u001b[1;33m.\u001b[0m\u001b[0m_fields\u001b[0m\u001b[1;33m\u001b[0m\u001b[1;33m\u001b[0m\u001b[0m\n\u001b[1;32m--> 509\u001b[1;33m                     \u001b[0marrays\u001b[0m\u001b[1;33m,\u001b[0m \u001b[0mcolumns\u001b[0m \u001b[1;33m=\u001b[0m \u001b[0mto_arrays\u001b[0m\u001b[1;33m(\u001b[0m\u001b[0mdata\u001b[0m\u001b[1;33m,\u001b[0m \u001b[0mcolumns\u001b[0m\u001b[1;33m,\u001b[0m \u001b[0mdtype\u001b[0m\u001b[1;33m=\u001b[0m\u001b[0mdtype\u001b[0m\u001b[1;33m)\u001b[0m\u001b[1;33m\u001b[0m\u001b[1;33m\u001b[0m\u001b[0m\n\u001b[0m\u001b[0;32m    510\u001b[0m                     \u001b[0mcolumns\u001b[0m \u001b[1;33m=\u001b[0m \u001b[0mensure_index\u001b[0m\u001b[1;33m(\u001b[0m\u001b[0mcolumns\u001b[0m\u001b[1;33m)\u001b[0m\u001b[1;33m\u001b[0m\u001b[1;33m\u001b[0m\u001b[0m\n\u001b[0;32m    511\u001b[0m \u001b[1;33m\u001b[0m\u001b[0m\n",
      "\u001b[1;32mc:\\Users\\mohce\\anaconda3\\lib\\site-packages\\pandas\\core\\internals\\construction.py\u001b[0m in \u001b[0;36mto_arrays\u001b[1;34m(data, columns, coerce_float, dtype)\u001b[0m\n\u001b[0;32m    522\u001b[0m         \u001b[1;32mreturn\u001b[0m \u001b[1;33m[\u001b[0m\u001b[1;33m]\u001b[0m\u001b[1;33m,\u001b[0m \u001b[1;33m[\u001b[0m\u001b[1;33m]\u001b[0m  \u001b[1;31m# columns if columns is not None else []\u001b[0m\u001b[1;33m\u001b[0m\u001b[1;33m\u001b[0m\u001b[0m\n\u001b[0;32m    523\u001b[0m     \u001b[1;32mif\u001b[0m \u001b[0misinstance\u001b[0m\u001b[1;33m(\u001b[0m\u001b[0mdata\u001b[0m\u001b[1;33m[\u001b[0m\u001b[1;36m0\u001b[0m\u001b[1;33m]\u001b[0m\u001b[1;33m,\u001b[0m \u001b[1;33m(\u001b[0m\u001b[0mlist\u001b[0m\u001b[1;33m,\u001b[0m \u001b[0mtuple\u001b[0m\u001b[1;33m)\u001b[0m\u001b[1;33m)\u001b[0m\u001b[1;33m:\u001b[0m\u001b[1;33m\u001b[0m\u001b[1;33m\u001b[0m\u001b[0m\n\u001b[1;32m--> 524\u001b[1;33m         \u001b[1;32mreturn\u001b[0m \u001b[0m_list_to_arrays\u001b[0m\u001b[1;33m(\u001b[0m\u001b[0mdata\u001b[0m\u001b[1;33m,\u001b[0m \u001b[0mcolumns\u001b[0m\u001b[1;33m,\u001b[0m \u001b[0mcoerce_float\u001b[0m\u001b[1;33m=\u001b[0m\u001b[0mcoerce_float\u001b[0m\u001b[1;33m,\u001b[0m \u001b[0mdtype\u001b[0m\u001b[1;33m=\u001b[0m\u001b[0mdtype\u001b[0m\u001b[1;33m)\u001b[0m\u001b[1;33m\u001b[0m\u001b[1;33m\u001b[0m\u001b[0m\n\u001b[0m\u001b[0;32m    525\u001b[0m     \u001b[1;32melif\u001b[0m \u001b[0misinstance\u001b[0m\u001b[1;33m(\u001b[0m\u001b[0mdata\u001b[0m\u001b[1;33m[\u001b[0m\u001b[1;36m0\u001b[0m\u001b[1;33m]\u001b[0m\u001b[1;33m,\u001b[0m \u001b[0mabc\u001b[0m\u001b[1;33m.\u001b[0m\u001b[0mMapping\u001b[0m\u001b[1;33m)\u001b[0m\u001b[1;33m:\u001b[0m\u001b[1;33m\u001b[0m\u001b[1;33m\u001b[0m\u001b[0m\n\u001b[0;32m    526\u001b[0m         return _list_of_dict_to_arrays(\n",
      "\u001b[1;32mc:\\Users\\mohce\\anaconda3\\lib\\site-packages\\pandas\\core\\internals\\construction.py\u001b[0m in \u001b[0;36m_list_to_arrays\u001b[1;34m(data, columns, coerce_float, dtype)\u001b[0m\n\u001b[0;32m    565\u001b[0m         \u001b[0mresult\u001b[0m \u001b[1;33m=\u001b[0m \u001b[0m_convert_object_array\u001b[0m\u001b[1;33m(\u001b[0m\u001b[0mcontent\u001b[0m\u001b[1;33m,\u001b[0m \u001b[0mdtype\u001b[0m\u001b[1;33m=\u001b[0m\u001b[0mdtype\u001b[0m\u001b[1;33m,\u001b[0m \u001b[0mcoerce_float\u001b[0m\u001b[1;33m=\u001b[0m\u001b[0mcoerce_float\u001b[0m\u001b[1;33m)\u001b[0m\u001b[1;33m\u001b[0m\u001b[1;33m\u001b[0m\u001b[0m\n\u001b[0;32m    566\u001b[0m     \u001b[1;32mexcept\u001b[0m \u001b[0mAssertionError\u001b[0m \u001b[1;32mas\u001b[0m \u001b[0me\u001b[0m\u001b[1;33m:\u001b[0m\u001b[1;33m\u001b[0m\u001b[1;33m\u001b[0m\u001b[0m\n\u001b[1;32m--> 567\u001b[1;33m         \u001b[1;32mraise\u001b[0m \u001b[0mValueError\u001b[0m\u001b[1;33m(\u001b[0m\u001b[0me\u001b[0m\u001b[1;33m)\u001b[0m \u001b[1;32mfrom\u001b[0m \u001b[0me\u001b[0m\u001b[1;33m\u001b[0m\u001b[1;33m\u001b[0m\u001b[0m\n\u001b[0m\u001b[0;32m    568\u001b[0m     \u001b[1;32mreturn\u001b[0m \u001b[0mresult\u001b[0m\u001b[1;33m,\u001b[0m \u001b[0mcolumns\u001b[0m\u001b[1;33m\u001b[0m\u001b[1;33m\u001b[0m\u001b[0m\n\u001b[0;32m    569\u001b[0m \u001b[1;33m\u001b[0m\u001b[0m\n",
      "\u001b[1;31mValueError\u001b[0m: 12 columns passed, passed data had 14 columns"
     ]
    }
   ],
   "source": [
    "from selenium import webdriver\n",
    "from selenium.common.exceptions import NoSuchElementException, StaleElementReferenceException, ElementClickInterceptedException\n",
    "from sqlalchemy import except_\n",
    "import time\n",
    "url = 'https://understat.com/league/Serie_A/2020'\n",
    "\n",
    "option = webdriver.ChromeOptions()\n",
    "option.add_argument('headless')\n",
    "driver = webdriver.Chrome()\n",
    "driver.get(url)\n",
    "\n",
    "driver.find_element_by_name('date-start').click()\n",
    "\n",
    "\n",
    "sDate  = driver.find_element_by_name('date-start') # set start date input element into variable\n",
    "sDate.clear() #clear existing entry\n",
    "sDate.send_keys('09/29/2020') #add custom entry\n",
    "\n",
    "\n",
    "driver.find_element_by_name('date-end').click()\n",
    "\n",
    "eDate  = driver.find_element_by_name('date-end') # set start date input element into variable\n",
    "eDate.clear() #clear existing entry\n",
    "eDate.send_keys('10/29/2020') #add custom entry\n",
    "\n",
    "driver.find_element_by_xpath(\"//body\").click()\n",
    "\n",
    "p = driver.find_element_by_xpath(\"//div[@id='league-chemp']/table/thead/tr\").text\n",
    "#print(p)\n",
    "\n",
    "\n",
    "i = 1\n",
    "l = []\n",
    "while True:\n",
    "    try:\n",
    "        b = driver.find_element_by_xpath(f\"//div[@id='league-chemp']/table/tbody/tr[{i}]\").text\n",
    "        l.append(b.split(' '))  \n",
    "        #leaderboard.loc[i] = b.split(' ')\n",
    "        i+=1\n",
    "        \n",
    "    except NoSuchElementException:\n",
    "        break\n",
    "\n",
    "leaderboard = pd.DataFrame(l, columns=p.split(' '))\n",
    "#print('CLASSIFICA')\n",
    "#print(leaderboard)\n",
    "\n",
    "driver.find_element_by_name('players-date-start').click()\n",
    "\n",
    "\n",
    "sDate  = driver.find_element_by_name('players-date-start') # set start date input element into variable\n",
    "sDate.clear() #clear existing entry\n",
    "sDate.send_keys('09/29/2020') #add custom entry\n",
    "\n",
    "\n",
    "driver.find_element_by_name('players-date-end').click()\n",
    "\n",
    "eDate  = driver.find_element_by_name('players-date-end') # set start date input element into variable\n",
    "eDate.clear() #clear existing entry\n",
    "eDate.send_keys('10/29/2020') #add custom entry\n",
    "\n",
    "driver.find_element_by_id(\"players-filter\").click()\n",
    "\n",
    "\n",
    "time.sleep(2)\n",
    "\n",
    "pagination = driver.find_elements_by_xpath(\"//ul//li[contains(@class,'page')]\")\n",
    "\n",
    "#print('PAGINATION:')\n",
    "#print(pagination[-1].text)\n",
    "max = int(pagination[-1].text)-2\n",
    "j = int(pagination[3].text)\n",
    "\n",
    "\n",
    "def get_table(i):\n",
    "    try:\n",
    "        pagination = driver.find_elements_by_xpath(\"//ul//li[contains(@class,'page')]\")\n",
    "        #print(\"PAGINAA\")\n",
    "        #print(pagination[i].text)\n",
    "        pagination[i].click()\n",
    "        #pagination = pagination.split(\"\\n\")[-1]\n",
    "        #print(pagination)\n",
    "\n",
    "\n",
    "    except NoSuchElementException:\n",
    "        return True\n",
    "\n",
    "    except ElementClickInterceptedException:\n",
    "        pass\n",
    "\n",
    "\n",
    "    j = 1\n",
    "\n",
    "    while True:\n",
    "        try:\n",
    "            b = driver.find_element_by_xpath(f\"//div[@id='league-players']/table/tbody/tr[{j}]\").text\n",
    "            #print(b)\n",
    "            j+=1\n",
    "        except NoSuchElementException:\n",
    "            break\n",
    "\n",
    "\n",
    "for i in range(0,4):\n",
    "    if get_table(i):\n",
    "        break\n",
    "\n",
    "\n",
    "\n",
    "\n",
    "while True:\n",
    "    #print('ciaoooooo')\n",
    "    #print(j)\n",
    "    \n",
    "    if (get_table(-2) or (j == max)):\n",
    "        break\n",
    "    j += 1\n",
    "\n",
    "\n",
    "\n",
    "get_table(-1)\n",
    "\n",
    "\n",
    "\n",
    "\n",
    "input(\"dasdasdas\")\n",
    "driver.quit()"
   ]
  },
  {
   "cell_type": "code",
   "execution_count": null,
   "metadata": {},
   "outputs": [],
   "source": [
    "l"
   ]
  },
  {
   "cell_type": "code",
   "execution_count": 68,
   "metadata": {},
   "outputs": [
    {
     "data": {
      "text/html": [
       "<div>\n",
       "<style scoped>\n",
       "    .dataframe tbody tr th:only-of-type {\n",
       "        vertical-align: middle;\n",
       "    }\n",
       "\n",
       "    .dataframe tbody tr th {\n",
       "        vertical-align: top;\n",
       "    }\n",
       "\n",
       "    .dataframe thead tr th {\n",
       "        text-align: left;\n",
       "    }\n",
       "</style>\n",
       "<table border=\"1\" class=\"dataframe\">\n",
       "  <thead>\n",
       "    <tr>\n",
       "      <th></th>\n",
       "      <th>№</th>\n",
       "      <th>Team</th>\n",
       "      <th>M</th>\n",
       "      <th>W</th>\n",
       "      <th>D</th>\n",
       "      <th>L</th>\n",
       "      <th>G</th>\n",
       "      <th>GA</th>\n",
       "      <th>PTS</th>\n",
       "      <th>xG</th>\n",
       "      <th>xGA</th>\n",
       "      <th>xPTS</th>\n",
       "    </tr>\n",
       "  </thead>\n",
       "  <tbody>\n",
       "  </tbody>\n",
       "</table>\n",
       "</div>"
      ],
      "text/plain": [
       "Empty DataFrame\n",
       "Columns: [(№,), (Team,), (M,), (W,), (D,), (L,), (G,), (GA,), (PTS,), (xG,), (xGA,), (xPTS,)]\n",
       "Index: []"
      ]
     },
     "execution_count": 68,
     "metadata": {},
     "output_type": "execute_result"
    }
   ],
   "source": [
    "leaderboard"
   ]
  },
  {
   "cell_type": "code",
   "execution_count": 47,
   "metadata": {},
   "outputs": [
    {
     "data": {
      "text/plain": [
       "12"
      ]
     },
     "execution_count": 47,
     "metadata": {},
     "output_type": "execute_result"
    }
   ],
   "source": [
    "len(p.split(' '))"
   ]
  },
  {
   "cell_type": "code",
   "execution_count": 45,
   "metadata": {},
   "outputs": [
    {
     "data": {
      "text/plain": [
       "12"
      ]
     },
     "execution_count": 45,
     "metadata": {},
     "output_type": "execute_result"
    }
   ],
   "source": [
    "b = driver.find_element_by_xpath(f\"//div[@id='league-players']/table/tbody/tr[{1}]\").text\n",
    "len(b.split(' '))"
   ]
  },
  {
   "cell_type": "code",
   "execution_count": 64,
   "metadata": {},
   "outputs": [
    {
     "data": {
      "text/plain": [
       "['1',\n",
       " 'Napoli',\n",
       " '2',\n",
       " '2',\n",
       " '0',\n",
       " '0',\n",
       " '8',\n",
       " '0',\n",
       " '6',\n",
       " '3.88-4.12',\n",
       " '0.43+0.43',\n",
       " '5.45-0.55']"
      ]
     },
     "execution_count": 64,
     "metadata": {},
     "output_type": "execute_result"
    }
   ],
   "source": [
    "l[0]"
   ]
  },
  {
   "cell_type": "code",
   "execution_count": 69,
   "metadata": {},
   "outputs": [
    {
     "data": {
      "text/plain": [
       "['№', 'Team', 'M', 'W', 'D', 'L', 'G', 'GA', 'PTS', 'xG', 'xGA', 'xPTS']"
      ]
     },
     "execution_count": 69,
     "metadata": {},
     "output_type": "execute_result"
    }
   ],
   "source": [
    "p.split(' ')"
   ]
  },
  {
   "cell_type": "code",
   "execution_count": null,
   "metadata": {},
   "outputs": [],
   "source": []
  }
 ],
 "metadata": {
  "kernelspec": {
   "display_name": "Python 3",
   "language": "python",
   "name": "python3"
  },
  "language_info": {
   "codemirror_mode": {
    "name": "ipython",
    "version": 3
   },
   "file_extension": ".py",
   "mimetype": "text/x-python",
   "name": "python",
   "nbconvert_exporter": "python",
   "pygments_lexer": "ipython3",
   "version": "3.8.5"
  },
  "vscode": {
   "interpreter": {
    "hash": "18270b80ea112a66558ab565c77ab259f789f45419cdcc32ada7e64128652b42"
   }
  }
 },
 "nbformat": 4,
 "nbformat_minor": 2
}
